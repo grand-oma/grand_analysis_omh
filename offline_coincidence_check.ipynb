{
 "cells": [
  {
   "cell_type": "code",
   "execution_count": null,
   "id": "78f487a7-7bed-46e6-9f9b-36c51e89b587",
   "metadata": {},
   "outputs": [],
   "source": [
    "# Initial notebook by Xishui\n",
    "#https://github.com/watertien/T3_offline_trigger/blob/main/offline_coincidence_check.ipynb\n",
    "    \n",
    "import numpy as np\n",
    "import matplotlib.pyplot as plt\n",
    "# import glob\n",
    "from scipy.fft import rfftfreq, rfft, irfft\n",
    "from grand import ECEF, Geodetic, GRANDCS, LTP\n",
    "from scipy.optimize import minimize_scalar\n",
    "from scipy.optimize import curve_fit\n",
    "import os \n",
    "import datetime\n",
    "plt.style.use(\"/home/olivier/GRAND/soft/l3.mplstyle\")\n",
    "\n",
    "#data_dir = \"/home/olivier/GRAND/data/GP300/gp13/xishui_data/aug2024/\"\n",
    "data_dir = \"/home/olivier/GRAND/data/GP300/gp13/xishui_data/\""
   ]
  },
  {
   "cell_type": "markdown",
   "id": "9f152c35-5a20-4b9d-8e04-3097f0f16fb3",
   "metadata": {},
   "source": [
    "# Use one file as an example"
   ]
  },
  {
   "cell_type": "markdown",
   "id": "796fd29b-9679-434e-85f3-268ca7fbc04d",
   "metadata": {
    "jp-MarkdownHeadingCollapsed": true
   },
   "source": [
    "## Zenith distribution"
   ]
  },
  {
   "cell_type": "code",
   "execution_count": null,
   "id": "d62019df-5417-46da-b1a1-62417cdb2eb3",
   "metadata": {},
   "outputs": [],
   "source": [
    "rec_PWF = np.genfromtxt(data_dir+\"GP13_20240616_122342_RUN127_UD_RAW_ChanXYZ_20dB_10DUs_001.root/Rec_plane_wave_recons.txt\")\n",
    "\n",
    "zenith_wrapped_around_horizon = rec_PWF[:,2].copy()\n",
    "zenith_wrapped_around_horizon = 180 - zenith_wrapped_around_horizon\n",
    "zenith_wrapped_around_horizon[zenith_wrapped_around_horizon > 90] = 90 - (zenith_wrapped_around_horizon[zenith_wrapped_around_horizon > 90] - 90)\n",
    "# plt.hist(zenith_wrapped_around_horizon, bins=np.linspace(70, 90, 201), label='Total', histtype='step', lw=3, color='k')\n",
    "for ndu in np.unique(rec_PWF[:,1]):\n",
    "    plt.hist(zenith_wrapped_around_horizon[rec_PWF[:,1] == ndu], bins=np.linspace(0, 90, 91), label='n$_{DU}=$' + f'{ndu}', histtype='step', lw=1)\n",
    "# plt.hist(zenith_wrapped_around_horizon[rec_PWF[:,1] == 5], bins=np.linspace(0, 90, 91), label='n$_{DU}=5$', histtype='step', lw=1)\n",
    "# plt.hist(zenith_wrapped_around_horizon[rec_PWF[:,1] == 6], bins=np.linspace(0, 90, 91), label='n$_{DU}=6$', histtype='step', lw=1)\n",
    "# plt.hist(zenith_wrapped_around_horizon[rec_PWF[:,1] == 7], bins=np.linspace(0, 90, 91), label='n$_{DU}=7$', histtype='step', lw=1)\n",
    "\n",
    "plt.legend()\n",
    "plt.xlabel('Zenith [deg] (wrapped at the horizon)')\n",
    "plt.grid()\n",
    "# plt.xlim(70, 90)\n",
    "# plt.xticks(np.arange(0, 91, 10))\n",
    "plt.tight_layout()\n",
    "plt.legend(loc='best')\n",
    "# plt.savefig(\"imgs/zenith_dist_beacon_173.pdf\");"
   ]
  },
  {
   "cell_type": "markdown",
   "id": "c8dd6fc4-4c7a-4839-9410-1ff8de290b83",
   "metadata": {
    "jp-MarkdownHeadingCollapsed": true
   },
   "source": [
    "## Azimuth distribution"
   ]
  },
  {
   "cell_type": "code",
   "execution_count": null,
   "id": "2a26cf06-e25e-4528-9810-dd579411fc37",
   "metadata": {},
   "outputs": [],
   "source": [
    "# change the coordinate system: \"from source to observer\" to \"from observer to source\"\n",
    "# the conventional CR notation\n",
    "azimuth = rec_PWF[:,4] + 180\n",
    "azimuth[azimuth > 360] = azimuth[azimuth > 360] - 360\n",
    "plt.hist(azimuth, bins=np.linspace(26, 28, 101), label='Total', histtype='step', lw=3, color='k')\n",
    "for ndu in np.unique(rec_PWF[:,1]):\n",
    "    plt.hist(azimuth[rec_PWF[:,1] == ndu], bins=np.linspace(0, 360, 181), label='n$_{DU}=$' + f'{ndu}', histtype='step', lw=1)\n",
    "# plt.hist(azimuth[rec_PWF[:,1] == 4], bins=np.linspace(0, 360, 181), label='n$_{DU}=4$', histtype='step', lw=2)\n",
    "# plt.hist(azimuth[rec_PWF[:,1] == 5], bins=np.linspace(0, 360, 181), label='n$_{DU}=5$', histtype='step', lw=2)\n",
    "# plt.hist(azimuth[rec_PWF[:,1] == 6], bins=np.linspace(0, 360, 181), label='n$_{DU}=6$', histtype='step', lw=2)\n",
    "# plt.hist(azimuth[rec_PWF[:,1] == 7], bins=np.linspace(0, 360, 181), label='n$_{DU}=7$', histtype='step', lw=2)\n",
    "plt.legend()\n",
    "plt.xlabel(\"Azimuth [deg]\")\n",
    "# plt.xlim(26, 28)\n",
    "plt.grid()\n",
    "plt.tight_layout()\n",
    "# plt.savefig(\"imgs/azimuth_dist_beacon_173.pdf\")"
   ]
  },
  {
   "cell_type": "markdown",
   "id": "d6af8693-7eb6-4877-8d2b-783723ee74a2",
   "metadata": {
    "jp-MarkdownHeadingCollapsed": true
   },
   "source": [
    "## Ploar plot on the reconstructed directions"
   ]
  },
  {
   "cell_type": "code",
   "execution_count": null,
   "id": "090de654-fd20-4e5b-8817-3981722666a6",
   "metadata": {},
   "outputs": [],
   "source": [
    "plt.polar(azimuth * np.pi / 180, zenith_wrapped_around_horizon, marker='.', ls='', markersize=8)\n",
    "plt.gca().set_theta_zero_location('N', offset=0)"
   ]
  },
  {
   "cell_type": "markdown",
   "id": "e584f38f-6166-4d46-a13b-c8cd086e7532",
   "metadata": {
    "jp-MarkdownHeadingCollapsed": true
   },
   "source": [
    "## Reconstructed source positions"
   ]
  },
  {
   "cell_type": "code",
   "execution_count": null,
   "id": "b69b0f89-19bc-4cd5-8107-b5cad241da9c",
   "metadata": {},
   "outputs": [],
   "source": [
    "file_coinctable = np.genfromtxt(data_dir+\"GP13_20240616_122342_RUN127_UD_RAW_ChanXYZ_20dB_10DUs_001.root/Rec_coinctable.txt\", dtype=float)\n",
    "file_ducoord = np.genfromtxt(data_dir+\"GP13_20240616_122342_RUN127_UD_RAW_ChanXYZ_20dB_10DUs_001.root/coord_antennas.txt\", dtype=float)\n",
    "file_rec_sphere = np.genfromtxt(data_dir+\"GP13_20240616_122342_RUN127_UD_RAW_ChanXYZ_20dB_10DUs_001.root/Rec_sphere_wave_recons.txt\", dtype=float, usecols=np.arange(9))\n",
    "file_rec_plane = np.genfromtxt(data_dir+\"GP13_20240616_122342_RUN127_UD_RAW_ChanXYZ_20dB_10DUs_001.root/Rec_plane_wave_recons.txt\", dtype=float)\n",
    "file_du_id = np.genfromtxt(data_dir+\"GP13_20240616_122342_RUN127_UD_RAW_ChanXYZ_20dB_10DUs_001.root/DU_id.txt\")"
   ]
  },
  {
   "cell_type": "code",
   "execution_count": null,
   "id": "60af33d9-7581-464f-bced-b4d905080cec",
   "metadata": {},
   "outputs": [],
   "source": [
    "plt.plot(-file_rec_sphere[:,5], file_rec_sphere[:,4], marker='.', ls='')"
   ]
  },
  {
   "cell_type": "markdown",
   "id": "bac0b939-471a-4364-986b-f3bb60d2dfb5",
   "metadata": {
    "jp-MarkdownHeadingCollapsed": true
   },
   "source": [
    "## Delay plots (sphere)"
   ]
  },
  {
   "cell_type": "code",
   "execution_count": null,
   "id": "279761fb-fc66-4e7a-abb4-c20f5e7d78ba",
   "metadata": {},
   "outputs": [],
   "source": [
    "list_chi2_sphere = []\n",
    "for event_id in rec_PWF[:,0][rec_PWF[:,1] == 5]:\n",
    "# event_id = [1] # the time of trace\n",
    "  list_linenumber = file_coinctable[file_coinctable[:,1] == event_id,0]\n",
    "  time_delay_exp = file_coinctable[file_coinctable[:,1] == event_id][:,2]\n",
    "  mask_sort_time_delay = np.argsort(time_delay_exp)\n",
    "  rec_pos_source = file_rec_sphere[file_rec_sphere[:,0] == event_id,4:7].flatten() # Reconstructed position of the source\n",
    "  time_offset = file_rec_sphere[file_rec_sphere[:,0] == event_id,7] / 3e8 * 1e9\n",
    "  du_pos = file_ducoord[list_linenumber.astype(\"int\"),1:]\n",
    "  time_delay_rec = np.sqrt(np.sum((du_pos - rec_pos_source)**2, axis=1)) / 3e8 * 1e9 # in nanoseconds\n",
    "  plt.clf()\n",
    "  plt.plot(time_delay_exp[mask_sort_time_delay] * 1e9, time_delay_rec[mask_sort_time_delay], marker='.', ls='')\n",
    "  plt.plot([0, 2000], [0, 2000], ls='--', color='r')\n",
    "  plt.xlabel(r\"$\\Delta t_{\\rm exp} $ [ns]\")\n",
    "  plt.ylabel(r\"$\\Delta t_{\\rm rec} $ [ns]\")\n",
    "  plt.title(f\"Spherical Wave Rec {event_id:.0f}\")\n",
    "  plt.grid(True)\n",
    "  plt.tight_layout()\n",
    "  # plt.savefig(f\"imgs/delay_spherical_{event_id}_5DU.pdf\")"
   ]
  },
  {
   "cell_type": "markdown",
   "id": "1b59a1c4-52ac-464c-8421-195fc9e2c222",
   "metadata": {
    "jp-MarkdownHeadingCollapsed": true
   },
   "source": [
    "## Deplay plots (plane)"
   ]
  },
  {
   "cell_type": "code",
   "execution_count": null,
   "id": "a81a3a5e-2d8f-4554-b4ee-695d440cf86d",
   "metadata": {},
   "outputs": [],
   "source": [
    "list_chi2 = np.zeros(len(rec_PWF))\n",
    "for i, event_id in enumerate(file_rec_plane[:,0]):\n",
    "  list_linenumber = file_coinctable[file_coinctable[:,1] == event_id,0]\n",
    "  time_delay_exp = file_coinctable[file_coinctable[:,1] == event_id,2]\n",
    "  time_delay_exp_ns = time_delay_exp * 1e9\n",
    "  time_delay_exp_ns0 = time_delay_exp_ns - time_delay_exp_ns.min()\n",
    "  argmin = np.argmin(time_delay_exp_ns0)\n",
    "  mask_sort_time_delay = np.argsort(time_delay_exp_ns0)\n",
    "\n",
    "  rec_theta, rec_phi = np.radians(file_rec_plane[file_rec_plane[:,0] == event_id,[2,4]]) # Reconstructed direction of the source\n",
    "  du_pos = file_ducoord[list_linenumber.astype(\"int\"),1:]\n",
    "  event_coord_shower_axis = np.dot(du_pos, [np.sin(rec_theta) * np.cos(rec_phi), np.sin(rec_theta) * np.sin(rec_phi), np.cos(rec_theta)]) \n",
    "  time_delay_rec =  event_coord_shower_axis / 3e8 * 1e9 # in nanoseconds\n",
    "  # use the first triggered DU as the time origin\n",
    "  time_offset = time_delay_exp_ns0[mask_sort_time_delay][0] - time_delay_rec[mask_sort_time_delay][argmin]\n",
    "  chi2 = np.sum((time_delay_exp_ns0[mask_sort_time_delay] - (time_delay_rec[mask_sort_time_delay] + time_offset))**2) / (len(time_delay_exp) - 2)\n",
    "  list_chi2[i] = chi2\n",
    "  plt.clf()  \n",
    "  plt.plot(time_delay_exp_ns0[mask_sort_time_delay], time_delay_rec[mask_sort_time_delay] + time_offset, marker='.', ls='')\n",
    "  # plt.axis(\"equal\")\n",
    "  plt.plot(np.array([0, 6000]), np.array([0, 6000]), ls='--', color='r')\n",
    "  plt.xlabel(r\"$\\Delta t_{\\rm exp} $ [ns]\")\n",
    "  plt.ylabel(r\"$\\Delta t_{\\rm rec} $ [ns]\")\n",
    "  plt.title(f\"Plane Wave Rec {event_id:.0f}\")\n",
    "  plt.grid(True)\n",
    "  plt.tight_layout()\n",
    "  plt.savefig(f\"imgs/0616/delay_plane_{event_id:.0f}.pdf\")"
   ]
  },
  {
   "cell_type": "markdown",
   "id": "b88cb11f-1556-4f3a-af80-8a0086954280",
   "metadata": {
    "jp-MarkdownHeadingCollapsed": true
   },
   "source": [
    "## chi2 distribution"
   ]
  },
  {
   "cell_type": "code",
   "execution_count": null,
   "id": "0d6ee080-cb7c-4949-b4ff-94eace663b73",
   "metadata": {},
   "outputs": [],
   "source": [
    "plt.hist(list_chi2, np.logspace(-2, 10, 30))\n",
    "plt.ylabel(\"# of events\")\n",
    "plt.xlabel(\"$\\chi^2$\")\n",
    "plt.grid()\n",
    "plt.loglog()"
   ]
  },
  {
   "cell_type": "markdown",
   "id": "b195a3c8-ebe4-449f-86dd-ba894e572518",
   "metadata": {},
   "source": [
    "# Full set reconstruction"
   ]
  },
  {
   "cell_type": "code",
   "execution_count": null,
   "id": "3d48916f-b9ea-47ab-ab1f-dd5b26ed79d1",
   "metadata": {
    "scrolled": true
   },
   "outputs": [],
   "source": [
    "_dirlist = filter(os.path.isdir, [os.path.join(data_dir, f) for f in os.listdir(data_dir)])\n",
    "dirlist1 = list(_dirlist)\n",
    "dirlist1.sort()\n",
    "dirlist = np.array(dirlist1)\n",
    "# dirlist = [f for f in dirlist1 if \"20240616\" in f]\n",
    "\n",
    "list_rec_plane = np.zeros((0,8), dtype=np.float64)\n",
    "list_rec_sphere = np.zeros((0,10), dtype=np.float64)\n",
    "list_coin_table = np.zeros((0,4), dtype=np.float64)\n",
    "list_DU_coord = np.zeros((0,4), dtype=np.float64)\n",
    "list_event_sec0 = np.zeros((0,1), dtype=np.int64)\n",
    "list_event_nanos0 = np.zeros((0,1), dtype=np.int64)\n",
    "list_event_t = np.zeros((0,1), dtype=np.float64)\n",
    "list_peak = np.zeros((0,1), dtype=np.int32)\n",
    "list_event_id = np.zeros((0,1), dtype=np.int64)\n",
    "list_rec_id = np.zeros((0,1), dtype=np.int64)\n",
    "list_DU_id = np.zeros((0,1), dtype=np.int16)\n",
    "list_if_file = np.zeros(len(dirlist), dtype=bool)\n",
    "no_swf = []\n",
    "no_pwf = []\n",
    "dur = 0\n",
    "event_i = 0\n",
    "for i, dir in enumerate(dirlist):\n",
    "    if not os.path.exists(dir +'/Rec_coinctable.txt'):\n",
    "      # Empty, skip\n",
    "      continue\n",
    "    if not os.path.exists(dir +'/DU_id.txt'):\n",
    "      # Empty, skip\n",
    "      continue\n",
    "    size = os.path.getsize(dir +'/Rec_coinctable.txt')\n",
    "    if size == 0:\n",
    "      # Empty, skip\n",
    "      continue\n",
    "    print(\"Now \",dir)    \n",
    "    if os.path.isfile(dir+'/Rec_plane_wave_recons.txt') == False:\n",
    "      no_pwf.append(dir)\n",
    "      continue\n",
    "    if os.path.isfile(dir+'/Rec_sphere_wave_recons.txt') == False:\n",
    "      no_swf.append(dir)\n",
    "      continue\n",
    "    _list_coin_table = np.genfromtxt(dir +'/Rec_coinctable.txt', dtype=np.float64)\n",
    "    if len((np.unique(_list_coin_table[:,1])))< 2:  # Skip file if ony one coinc\n",
    "       continue\n",
    "    list_if_file[i] = 1\n",
    "    list_DU_id = np.append(list_DU_id, np.genfromtxt(dir +'/DU_id.txt', usecols=0, dtype=np.int16))\n",
    "    list_event_sec0 = np.append(list_event_sec0, np.genfromtxt(dir +'/DU_id.txt', usecols=1, dtype=np.int64))\n",
    "    list_event_nanos0 = np.append(list_event_nanos0, np.genfromtxt(dir +'/DU_id.txt', usecols=2, dtype=np.int64))\n",
    "    list_coin_table = np.append(list_coin_table, _list_coin_table, axis=0)\n",
    "    dur += _list_coin_table[2,-1]\n",
    "    list_DU_coord = np.append(list_DU_coord, np.genfromtxt(dir +'/coord_antennas.txt', dtype=np.float64), axis=0)\n",
    "    # print(dir)\n",
    "    _list_rec_plane = np.genfromtxt(dir +'/Rec_plane_wave_recons.txt', dtype=np.float64).reshape((-1, 8))\n",
    "    list_rec_plane = np.append(list_rec_plane, _list_rec_plane, axis=0)\n",
    "    _list_rec_sphere = np.genfromtxt(dir +'/Rec_sphere_wave_recons.txt', usecols=np.arange(10), dtype=np.float64).reshape((-1, 10))\n",
    "    list_rec_sphere = np.append(list_rec_sphere, _list_rec_sphere, axis=0)\n",
    "    if len(_list_rec_sphere) != len(_list_rec_plane):\n",
    "        print(\"Error!\",dir, len(_list_rec_sphere), len(_list_rec_plane))\n",
    "        break\n",
    "    # Book keeping of unique IDs for events & coincs   \n",
    "    _list_event_i =  _list_coin_table[:,1]\n",
    "    _list_rec_i = _list_rec_plane[:,0]\n",
    "    list_event_id = np.append(list_event_id, _list_event_i + event_i)\n",
    "    list_rec_id = np.append(list_rec_id, _list_rec_i + event_i)\n",
    "    event_i += _list_event_i[-1] + 1 # ID starts from 0\n",
    "    print(\"Now\",len(list_event_id),\"events and\",len(list_rec_id),\"reconstructed coincs in\",dur/3600,\"hours.\" )\n",
    "    # if (_list_event_i[-1]) != len(_list_rec_plane):\n",
    "    #if (_list_event_i[-1] + 1) != len(_list_rec_plane):\n",
    "    #    print(dir, _list_event_i[-1] + 1, len(_list_rec_plane))\n",
    "    # break\n",
    "    # _, _ndu = np.unique(_list_event_i, return_counts=True)\n",
    "\n",
    "print(\"Missing PWF recons file for dirs\",no_pwf)\n",
    "print(\"Missing SWF recons file for dirs\",no_swf)\n"
   ]
  },
  {
   "cell_type": "code",
   "execution_count": null,
   "id": "6831d21e-328e-435b-95e3-f5d6c51bb351",
   "metadata": {},
   "outputs": [],
   "source": [
    "# Clean up tables\n",
    "list_event_t_true = (list_coin_table[:,2] * 1e9).astype(np.int64) + list_event_nanos0 + list_event_sec0 * 1e9\n",
    "plt.plot(list_event_id,'.',label='list_event_id')\n",
    "plt.plot(list_rec_id,'.',label='list_rec_id')\n",
    "plt.legend(loc='best')\n",
    "plt.xlabel('Index')\n",
    "plt.ylabel('Coinc ID')\n",
    "print(len(list_event_id),\"events,\",int(max(list_event_id)),\"coincs and\",len(list_rec_id),\"reconstructed coincs (mult>3).\" )\n",
    "plt.show()\n",
    "print(len(list_coin_table))"
   ]
  },
  {
   "cell_type": "markdown",
   "id": "f66470ba",
   "metadata": {},
   "source": [
    "## Chi2"
   ]
  },
  {
   "cell_type": "code",
   "execution_count": null,
   "id": "e5f65a51",
   "metadata": {},
   "outputs": [],
   "source": [
    "list_chi2 = np.zeros(len(list_rec_id))\n",
    "list_chi2_swf = np.zeros(len(list_rec_id))\n",
    "do_plot = 0\n",
    "for i, event_id in enumerate(list_rec_id):\n",
    "  if int(i/100) == i/100:\n",
    "    print(i,\"/\",len(list_rec_id),\"...\")\n",
    "  # Select proper lines both in coinc and recons files \n",
    "  mask_event = list_event_id == event_id\n",
    "  #ind_rec = list_rec_id == event_id\n",
    "  #list_linenumber = list_coin_table[mask_event,0]\n",
    "  if (i>1) & (sum(mask_event)<4):\n",
    "    print(\"Error! Should not be here\")\n",
    "    print(i,event_id,list_coin_table[mask_event,1:3])\n",
    "    break\n",
    "  time_delay_exp = list_coin_table[mask_event,2]\n",
    "  time_delay_exp_ns = time_delay_exp * 1e9\n",
    "  time_delay_exp_ns0 = time_delay_exp_ns - time_delay_exp_ns.min()\n",
    "  argmin = np.argmin(time_delay_exp_ns0)\n",
    "  mask_sort_time_delay = np.argsort(time_delay_exp_ns0)\n",
    "  \n",
    "  # PWF \n",
    "  rec_theta, rec_phi = np.radians(list_rec_plane[i,[2,4]]) # Reconstructed direction of the source\n",
    "  du_pos = list_DU_coord[mask_event,1:]\n",
    "  du_id = list_DU_id[mask_event]\n",
    "  event_coord_shower_axis = np.dot(du_pos, [np.sin(rec_theta) * np.cos(rec_phi), np.sin(rec_theta) * np.sin(rec_phi), np.cos(rec_theta)]) \n",
    "  time_delay_rec =  event_coord_shower_axis / 3e8 * 1e9 # in nanoseconds\n",
    "  # use the first triggered DU as the time origin\n",
    "  time_offset = time_delay_exp_ns0[mask_sort_time_delay][0] - time_delay_rec[mask_sort_time_delay][argmin]\n",
    "  chi2 = np.sum((time_delay_exp_ns0[mask_sort_time_delay] - (time_delay_rec[mask_sort_time_delay] + time_offset))**2) / (len(time_delay_exp) - 2) / 10**2  \n",
    "  if chi2 == np.nan:\n",
    "      print(i, event_id)\n",
    "      break \n",
    "  list_chi2[i] = chi2\n",
    "\n",
    "  # SWF\n",
    "  source_pos = list_rec_sphere[i,4:7]\n",
    "  time_delay_sph  = np.linalg.norm(du_pos-source_pos,axis=1)/ 3e8 * 1e9 # in nanoseconds\n",
    "  # use the first triggered DU as the time origin\n",
    "  time_offset_sph = time_delay_exp_ns0[mask_sort_time_delay][0] - time_delay_sph[mask_sort_time_delay][argmin]\n",
    "  chi2sph = np.sum((time_delay_exp_ns0[mask_sort_time_delay] - (time_delay_sph[mask_sort_time_delay] + time_offset_sph))**2) / (len(time_delay_exp) - 3) / 10**2  \n",
    "  if chi2 == np.nan:\n",
    "      print(i, event_id)\n",
    "      break \n",
    "  list_chi2_swf[i] = chi2sph\n",
    "  if do_plot == 1:\n",
    "    plt.clf()  \n",
    "    plt.figure()\n",
    "    plt.subplot(1,2,1)\n",
    "    plt.plot(time_delay_exp_ns0[mask_sort_time_delay], time_delay_rec[mask_sort_time_delay] + time_offset, marker='o', ls='')\n",
    "    # plt.axis(\"equal\")\n",
    "    plt.plot(np.array([0, max(time_delay_exp_ns0)*1.1]), np.array([0, max(time_delay_exp_ns0)*1.1]), ls='--', color='r')\n",
    "    plt.xlabel(r\"$\\Delta t_{\\rm exp} $ [ns]\")\n",
    "    plt.ylabel(r\"$\\Delta t_{\\rm rec} $ [ns]\")\n",
    "    plt.title(f\"Plane Wave Rec {event_id:.0f}\")\n",
    "    for j in range(len(time_delay_exp)):\n",
    "        plt.text(time_delay_exp_ns0[mask_sort_time_delay[j]]+200, time_delay_rec[mask_sort_time_delay[j]] + time_offset,du_id[j],fontsize=12)\n",
    "    plt.grid(True)\n",
    "    plt.subplot(1,2,2)\n",
    "    plt.plot(time_delay_exp_ns0[mask_sort_time_delay], time_delay_sph[mask_sort_time_delay] + time_offset_sph, marker='o', ls='')\n",
    "    # plt.axis(\"equal\")\n",
    "    plt.plot(np.array([0, max(time_delay_exp_ns0)*1.1]), np.array([0, max(time_delay_exp_ns0)*1.1]), ls='--', color='r')\n",
    "    plt.xlabel(r\"$\\Delta t_{\\rm exp} $ [ns]\")\n",
    "    plt.ylabel(r\"$\\Delta t_{\\rm rec} $ [ns]\")\n",
    "    plt.title(f\"Spherical Wave Rec {event_id:.0f}\")\n",
    "    for j in range(len(time_delay_exp)):\n",
    "        plt.text(time_delay_exp_ns0[mask_sort_time_delay[j]]+200, time_delay_sph[mask_sort_time_delay[j]] + time_offset_sph,du_id[j],fontsize=12)\n",
    "    plt.grid(True)\n",
    "    plt.tight_layout()   \n",
    "    plt.show();\n",
    "    print(\"Event\",int(event_id))\n",
    "    print(\"Chi2 plan = \",chi2,\"(theta,phi)=\",list_rec_plane[i,[2,4]])\n",
    "    print(\"Chi2 sph = \",chi2sph,\"(x,y,z)=\",source_pos)\n",
    "#    plt.savefig(f\"imgs/0616/delay_plane_{event_id:.0f}.pdf\")"
   ]
  },
  {
   "cell_type": "code",
   "execution_count": null,
   "id": "726b5b42",
   "metadata": {},
   "outputs": [],
   "source": [
    "plt.hist(list_chi2, np.logspace(-2, 6, 100));\n",
    "# plt.axvline(1e7)\n",
    "plt.ylabel(\"# of events\")\n",
    "plt.xlabel(\"$\\chi^2_{PWF}$\")\n",
    "plt.grid()\n",
    "plt.loglog()\n",
    "\n",
    "plt.figure()\n",
    "plt.hist(list_chi2_swf, np.logspace(-2, 6, 100));\n",
    "# plt.axvline(1e7)\n",
    "plt.ylabel(\"# of events\")\n",
    "plt.xlabel(\"$\\chi^2_{SWF}$\")\n",
    "plt.grid()\n",
    "plt.loglog()\n",
    "\n",
    "plt.figure()\n",
    "plt.plot(list_chi2,list_chi2_swf,'.')\n",
    "plt.xlabel(\"$\\chi^2_{PWF}$\")\n",
    "plt.ylabel(\"$\\chi^2_{SWF}$\")\n",
    "plt.grid()\n",
    "plt.loglog()\n",
    "\n",
    "plt.figure()\n",
    "plt.plot(list_chi2,'.',label='$\\chi^2_{PWF}$')\n",
    "plt.plot(list_chi2_swf,'.',label='$\\chi^2_{SWF}$')\n",
    "plt.legend(loc=\"best\")\n",
    "plt.semilogy()\n",
    "plt.xlabel(\"Coinc ID\")\n",
    "plt.ylabel(\"$\\chi^2$\")\n",
    "plt.grid()"
   ]
  },
  {
   "cell_type": "markdown",
   "id": "68413d2a",
   "metadata": {},
   "source": [
    "## Directions"
   ]
  },
  {
   "cell_type": "markdown",
   "id": "3f395207",
   "metadata": {},
   "source": [
    "## Plane recons"
   ]
  },
  {
   "cell_type": "code",
   "execution_count": null,
   "id": "fbd949f0-16f1-4a0c-8475-74a6fa92033b",
   "metadata": {},
   "outputs": [],
   "source": [
    "mult = list_rec_plane[:,1].copy()\n",
    "sel = (list_chi2<100) & (mult>3)\n",
    "print(\"Selection ratio\",sum(sel)/len(mult))\n",
    "\n",
    "zenith_wrapped_around_horizon = list_rec_plane[:,2].copy()\n",
    "zenith_wrapped_around_horizon = 180 - zenith_wrapped_around_horizon\n",
    "zenith_wrapped_around_horizon[zenith_wrapped_around_horizon > 90] = 90 - (zenith_wrapped_around_horizon[zenith_wrapped_around_horizon > 90] - 90)\n",
    "azimuth = list_rec_plane[:,4] + 180\n",
    "azimuth[azimuth > 360] = azimuth[azimuth > 360] - 360\n",
    "\n",
    "\n",
    "plt.figure()\n",
    "plt.subplot(1,2,1)\n",
    "plt.hist(zenith_wrapped_around_horizon,100);\n",
    "plt.hist(zenith_wrapped_around_horizon[sel],100);\n",
    "plt.xlabel(\"Zenith[deg]\")\n",
    "plt.semilogy()\n",
    "plt.subplot(1,2,2)\n",
    "plt.hist(azimuth,100);\n",
    "plt.hist(azimuth[sel],100);\n",
    "plt.semilogy()\n",
    "plt.xlabel(\"Azimuth [deg]\")\n",
    "\n"
   ]
  },
  {
   "cell_type": "markdown",
   "id": "9c5cf151-9d06-47e6-a4f0-eb8cead5c292",
   "metadata": {},
   "source": [
    "## Skyplot"
   ]
  },
  {
   "cell_type": "code",
   "execution_count": null,
   "id": "10f7b088-dc0f-4891-83d3-9b03df34313c",
   "metadata": {},
   "outputs": [],
   "source": [
    "list_event_id_unique, mask_unique, list_n_du = np.unique(list_event_id, return_index=True, return_counts=True)\n",
    "print(len(list_event_id_unique),len(list_event_id),len(azimuth))\n",
    "n_min = list_event_t_true[mask_unique] // 1e9 // 60\n",
    "plt.polar()\n",
    "#c=(n_min - n_min[0]), cmap=\"gnuplot\"\n",
    "plt.scatter(azimuth * np.pi / 180, zenith_wrapped_around_horizon, marker='.', ls='-', s=1, c='r')\n",
    "plt.scatter(azimuth[sel] * np.pi / 180, zenith_wrapped_around_horizon[sel], marker='o', ls='-', s=4, c='g')\n",
    "\n",
    "plt.gca().set_theta_zero_location('N', offset=0)\n",
    "#plt.colorbar(location='right', label='Min')"
   ]
  },
  {
   "cell_type": "markdown",
   "id": "dc4b19ec",
   "metadata": {},
   "source": [
    "## Spherical recons"
   ]
  },
  {
   "cell_type": "code",
   "execution_count": null,
   "id": "b89e6016",
   "metadata": {},
   "outputs": [],
   "source": [
    "plt.plot(-list_rec_sphere[sel,5], list_rec_sphere[sel,4], marker='.', ls='', markersize=2)\n",
    "sel_bad_pwf = (list_chi2>100) & (mult>3)\n",
    "sel_bad_swf = (list_chi2_swf>1000) & (mult>3)\n",
    "plt.plot(-list_rec_sphere[sel_bad_swf,5], list_rec_sphere[sel_bad_swf,4], color = 'r', marker='.', ls='', markersize=3)\n",
    "plt.xlabel(\"Easting[m]\")\n",
    "plt.ylabel(\"Northing[m]\")\n",
    "dlim = 1e4\n",
    "\n",
    "plt.xlim(-dlim, dlim)\n",
    "plt.ylim(-dlim, dlim)\n",
    "if 1: # Display DU positions\n",
    "  zdu,ind_dus = np.unique(list_DU_coord[:,3], return_index=True)\n",
    "  xdu = list_DU_coord[ind_dus,1]\n",
    "  ydu = list_DU_coord[ind_dus,2]\n",
    "  plt.plot(-ydu,xdu, 'o')\n"
   ]
  },
  {
   "cell_type": "code",
   "execution_count": null,
   "id": "064a4212",
   "metadata": {},
   "outputs": [],
   "source": [
    "ground_alt = list_rec_sphere[0,9]\n",
    "z_source = list_rec_sphere[:,6].copy()\n",
    "z_source[z_source<ground_alt] = 2*ground_alt -  z_source[z_source<ground_alt]\n",
    "plt.figure()\n",
    "plt.plot(list_rec_sphere[:,8], list_rec_sphere[:,6], marker='s', ls='', markersize=.2)\n",
    "plt.plot(list_rec_sphere[:,8], z_source, marker='s', ls='', markersize=.2)\n",
    "plt.axis(\"equal\")\n",
    "plt.xlabel(\"Distance to source[m]\")\n",
    "plt.ylabel(\"Height asl[m]\")\n",
    "plt.ylim(0,)\n",
    "plt.plot([0,20000],[ground_alt, ground_alt],'--',linewidth=1)\n",
    "plt.figure()\n",
    "plt.hist(np.abs(list_rec_sphere[:,6]),200);\n",
    "plt.hist(z_source,200);\n",
    "plt.plot([ground_alt, ground_alt],[0,500],'--',linewidth=1)\n",
    "plt.xlabel(\"Height asl[m]\")\n",
    "plt.figure()\n",
    "plt.hist(np.abs(list_rec_sphere[:,8]),200,label=\"All SWF\");\n",
    "plt.hist(np.abs(list_rec_sphere[sel_bad_swf,8]),200,label=\"Bad SWF Chi2\");\n",
    "plt.hist(np.abs(list_rec_sphere[sel_bad_pwf,8]),200,label=\"Bad PWF Chi2\");\n",
    "plt.legend(loc=\"best\")\n",
    "plt.semilogy()\n",
    "plt.xlabel(\"Distance to source [m]\")\n"
   ]
  },
  {
   "cell_type": "markdown",
   "id": "6cdf6217-5b97-4fd6-8b7c-e3959f300daf",
   "metadata": {},
   "source": [
    "## Trigger time distribution"
   ]
  },
  {
   "cell_type": "code",
   "execution_count": null,
   "id": "5e333ce3-14ce-4ef7-be14-fd70587d54ef",
   "metadata": {},
   "outputs": [],
   "source": [
    "# Get one time for each event\n",
    "\n",
    "list_event_t_unique = list_event_t_true[mask_unique]\n",
    "plt.plot(list_event_id_unique, list_event_t_unique, marker='.', ls='', markersize=1)\n",
    "plt.xlim(0,)\n",
    "plt.grid(True)\n",
    "plt.xlabel(\"Event ID\")\n",
    "plt.ylabel(\"Timestamp[ns]\")"
   ]
  },
  {
   "cell_type": "markdown",
   "id": "e0303264-c1cc-4fa7-83a5-f08e36e09b00",
   "metadata": {},
   "source": [
    "## Negative dt"
   ]
  },
  {
   "cell_type": "code",
   "execution_count": null,
   "id": "c31c627d-cce2-4c0a-a4ac-3bda4a264b01",
   "metadata": {},
   "outputs": [],
   "source": [
    "x = np.diff(list_event_t_true[mask_unique])\n",
    "print(list_event_id_unique[:-1][(x < 10e3)])\n",
    "print(x[x < 10e3])"
   ]
  },
  {
   "cell_type": "code",
   "execution_count": null,
   "id": "048083a3-77dd-475f-a5f8-6e2de8052e5a",
   "metadata": {
    "jupyter": {
     "outputs_hidden": true,
     "source_hidden": true
    },
    "scrolled": true
   },
   "outputs": [],
   "source": [
    "mask_negative_event_id = (list_event_id_unique[:-1][(x < 10e3)])\n",
    "for e_id in mask_negative_event_id:\n",
    "    plt.figure()\n",
    "    plt.title(int(e_id))\n",
    "    _ = list_event_t_true[list_event_id == e_id]-list_event_t_true[list_event_id == e_id][0]\n",
    "    __ = list_event_t_true[list_event_id == e_id+1]-list_event_t_true[list_event_id == e_id][0]\n",
    "    plt.plot(_, marker='.')\n",
    "    plt.plot(len(_) + np.arange(len(__)), __, marker='.')\n",
    "    plt.axhline(1e4)\n",
    "    # plt.axhline(1e4)"
   ]
  },
  {
   "cell_type": "code",
   "execution_count": null,
   "id": "d33d0646-3d03-4758-8d45-ef7dee75ad6e",
   "metadata": {},
   "outputs": [],
   "source": [
    "list_t_diff = np.diff(list_event_t_unique)\n",
    "plt.hist(list_t_diff, np.logspace(3, 13, 200))\n",
    "plt.axvline(10e3, ls='--', c='k', zorder=100) \n",
    "plt.axvline(4e6, ls='--', c='r', zorder=100) # 160Hz\n",
    "plt.axvline(9e7, ls='--', c='r', zorder=100) # 11Hz\n",
    "plt.axvline(3e9, ls='--', c='r', zorder=100) # 1Hz\n",
    "plt.axvline(2e11, ls='--', c='r', zorder=100) # 5E-3 Hz\n",
    "# plt.axvline(86400e9, ls='--', c='k', zorder=100)\n",
    "plt.loglog()\n",
    "plt.xlabel(\"$\\Delta t$[ns]\")\n",
    "plt.title(\"Distribution of event interval\")\n",
    "plt.grid(True);"
   ]
  },
  {
   "cell_type": "markdown",
   "id": "60c169b2-42a6-465e-a897-33d5951f6974",
   "metadata": {},
   "source": [
    "\n",
    "## Multiplicity"
   ]
  },
  {
   "cell_type": "code",
   "execution_count": null,
   "id": "93198575-8846-444b-8569-71bc51eb312b",
   "metadata": {},
   "outputs": [],
   "source": [
    "ndu, n = np.unique(list_n_du, return_counts=True)\n",
    "print(\"Nb of events per mult\")\n",
    "print(ndu,n)\n",
    "plt.bar(ndu, n, width=0.8)\n",
    "plt.plot(np.arange(3,11), n[0] / np.power(10,0.5*(np.arange(3,11)-3)), zorder=100, ls='--', c='r')\n",
    "plt.grid(True)\n",
    "plt.semilogy()\n",
    "plt.xticks(np.arange(1, 10))\n",
    "plt.xlabel(r\"$N_{\\rm DU}$\")\n",
    "plt.ylabel(r\"$N_{\\rm event}$\");\n"
   ]
  },
  {
   "cell_type": "code",
   "execution_count": null,
   "id": "19db5b40-760f-462c-920d-35aef6b7bfd7",
   "metadata": {},
   "outputs": [],
   "source": [
    "timestamps_ns = list_event_t_unique\n",
    "timestamps_s = (timestamps_ns // 1e9)\n",
    "datetime_DU = [datetime.datetime.utcfromtimestamp(int(s)) for s in timestamps_s]\n",
    "_dt_unique, _dt_n = np.unique(datetime_DU, return_counts=True)\n",
    "plt.semilogy(_dt_unique, _dt_n/10, marker='.', markersize=1, ls='-', c='k', lw=.5)\n",
    "plt.xticks(rotation=90)\n",
    "plt.xlabel(\"Datetime[UTC]\")\n",
    "plt.ylabel(\"Trigger rate[Hz]\")\n",
    "plt.grid(True);"
   ]
  },
  {
   "cell_type": "code",
   "execution_count": null,
   "id": "a2de6c88-beb4-4e50-b490-870b73040e3b",
   "metadata": {},
   "outputs": [],
   "source": [
    "timestamps_min = timestamps_s // 600\n",
    "t_min_unique, t_min_n = np.unique(timestamps_min, return_counts=True)\n",
    "datetime_DU_min = [datetime.datetime.utcfromtimestamp(int(s) * 600) for s in t_min_unique]\n",
    "plt.figure(figsize=(30, 5))\n",
    "# plt.semilogy(datetime_DU_min, t_min_n / 600, marker='.', markersize=6, ls='-', lw=2, alpha=.6)\n",
    "plt.semilogy(t_min_n / 600, marker='.', markersize=6, ls='-', lw=2, alpha=.6)\n",
    "plt.xticks(rotation=90)\n",
    "plt.xlabel(\"Datetime[UTC]\")\n",
    "plt.ylabel(\"Trigger rate[Hz]\")\n",
    "plt.grid(True);"
   ]
  },
  {
   "cell_type": "code",
   "execution_count": null,
   "id": "b0a2715f-80db-4642-9702-a127f3ef9c74",
   "metadata": {},
   "outputs": [],
   "source": [
    "list_coin_table[list_event_id == [10726]][:,2]"
   ]
  },
  {
   "cell_type": "code",
   "execution_count": null,
   "id": "3720cf6f-ba5e-4410-968b-f0969bc20f6c",
   "metadata": {
    "jupyter": {
     "outputs_hidden": true,
     "source_hidden": true
    }
   },
   "outputs": [],
   "source": [
    "plt.plot(np.array([10.732032966,\n",
    "10.732033601,\n",
    "10.732034075,\n",
    "10.732035217,\n",
    "10.732038860,\n",
    "10.732041829]), marker='.')\n",
    "plt.axhline(10.732032966 + 10e-6)\n",
    "plt.plot(list_coin_table[list_event_id == 10725][:,2], marker='.')\n",
    "plt.plot(list_coin_table[list_event_id == 10726][:,2], marker='.')"
   ]
  },
  {
   "cell_type": "code",
   "execution_count": null,
   "id": "a0d07831-e27c-41df-b4f0-e132f64ad687",
   "metadata": {
    "jupyter": {
     "outputs_hidden": true,
     "source_hidden": true
    }
   },
   "outputs": [],
   "source": [
    "list_coin_table[list_event_id == 8056][:,2] - i"
   ]
  },
  {
   "cell_type": "markdown",
   "id": "19503b94-d7e2-4a3d-b976-7a37e3e52075",
   "metadata": {},
   "source": [
    "## Trace max"
   ]
  },
  {
   "cell_type": "code",
   "execution_count": null,
   "id": "f3f7730f-e7bd-463e-a112-cbc16d3078b1",
   "metadata": {},
   "outputs": [],
   "source": [
    "event_id_small_chi2 = list_event_id_unique[list_chi2 < 1e4]\n",
    "mask_small_chi2_rec = np.zeros(len(list_coin_table), dtype=bool)\n",
    "for i in event_id_small_chi2:\n",
    "    mask_small_chi2_rec = mask_small_chi2_rec | (list_event_id == i)"
   ]
  },
  {
   "cell_type": "code",
   "execution_count": null,
   "id": "ec71ce1b-9e8b-4809-9376-16e222db6718",
   "metadata": {},
   "outputs": [],
   "source": [
    "i = 0\n",
    "fig, axs = plt.subplots(nrows=2, ncols=5, sharex=True, sharey=True,\n",
    "                       figsize=(20, 8))\n",
    "for du in np.unique(list_DU_id):\n",
    "    axs[i%2,i//2].hist(list_coin_table[(list_DU_id == du),3], np.logspace(1, 5),\n",
    "            histtype='step', label=du)\n",
    "    axs[i%2,i//2].legend()\n",
    "    axs[i%2,i//2].grid(True)\n",
    "    i += 1\n",
    "fig.subplots_adjust(hspace=0, wspace=0)\n",
    "plt.loglog()\n",
    "plt.xlabel(\"ADC\")\n",
    "plt.grid(True);"
   ]
  },
  {
   "cell_type": "markdown",
   "id": "3951cae2-29ed-4c5a-8db3-08c99397487a",
   "metadata": {},
   "source": [
    "## When one DU is triggered, it will add some \"dead time\" to the T3 trigger."
   ]
  },
  {
   "cell_type": "markdown",
   "id": "09d6b193-22d3-4911-8b88-d1d3f727a684",
   "metadata": {
    "jp-MarkdownHeadingCollapsed": true
   },
   "source": [
    "## Event time elapse distribution"
   ]
  },
  {
   "cell_type": "code",
   "execution_count": null,
   "id": "4c911a06-cb1c-4014-8c0a-05bf64eec70a",
   "metadata": {},
   "outputs": [],
   "source": [
    "list_event_dt = np.zeros_like(list_event_id_unique, dtype=np.float64)"
   ]
  },
  {
   "cell_type": "code",
   "execution_count": null,
   "id": "bca1ab11-afe8-43c5-b391-1a8596f2455c",
   "metadata": {},
   "outputs": [],
   "source": [
    "list_event_t_true[0]"
   ]
  },
  {
   "cell_type": "code",
   "execution_count": null,
   "id": "f742363c-e42d-470e-aa7b-169680d1cf8b",
   "metadata": {},
   "outputs": [],
   "source": [
    "for i, id in enumerate(list_event_id_unique):\n",
    "    event_times = list_event_t_true[list_event_id == id]\n",
    "    tmax = event_times.max()\n",
    "    tmin = event_times.min()\n",
    "    list_event_dt[i] = tmax - tmin"
   ]
  },
  {
   "cell_type": "code",
   "execution_count": null,
   "id": "17801895-1a2d-4c93-94b6-1fed354331fe",
   "metadata": {},
   "outputs": [],
   "source": [
    "plt.hist(list_event_dt[list_chi2 < 1e4], np.logspace(2, 5, 31),)\n",
    "plt.loglog()\n",
    "plt.xlabel(r\"$T_{max}-T_{min}$[ns]\")\n",
    "plt.grid(True)"
   ]
  },
  {
   "cell_type": "code",
   "execution_count": null,
   "id": "2fd24ed5-2f66-4f2a-9f2f-6eb30a5f27ca",
   "metadata": {
    "jupyter": {
     "outputs_hidden": true,
     "source_hidden": true
    },
    "scrolled": true
   },
   "outputs": [],
   "source": [
    "plt.hist(list_event_dt, np.logspace(2, 6))\n",
    "plt.loglog();"
   ]
  },
  {
   "cell_type": "markdown",
   "id": "43e82716-27ac-4eb9-94a1-311cd82b68a4",
   "metadata": {},
   "source": [
    "## 2D direction distribution"
   ]
  },
  {
   "cell_type": "code",
   "execution_count": null,
   "id": "e109c08e-534a-4e2e-86d9-9219fb73341e",
   "metadata": {},
   "outputs": [],
   "source": [
    "list_index = np.arange(len(azimuth))\n",
    "# Mask out the flight"
   ]
  },
  {
   "cell_type": "code",
   "execution_count": null,
   "id": "e7509137-9910-4b03-89b6-f6ed5c0dfbcd",
   "metadata": {},
   "outputs": [],
   "source": [
    "mask_on = (list_chi2 < 40) # & ((zenith_wrapped_around_horizon < 80) & (zenith_wrapped_around_horizon > 60))\n",
    "seconds_in_one_day = np.array(list_event_t_unique)\n",
    "fig, ax1 = plt.subplots(figsize=(30,10))\n",
    "color = 'tab:red'\n",
    "# ax1.set_xlabel('time (s)')\n",
    "ax1.set_ylabel('azimuth [deg]', color=color, fontsize=26)\n",
    "ax1.plot(list_rec_id[sel], azimuth[sel], color=color, ls='', marker='.', markersize=4)\n",
    "ax1.tick_params(axis='y', labelcolor=color)\n",
    "\n",
    "ax2 = ax1.twinx()  # instantiate a second Axes that shares the same x-axis\n",
    "\n",
    "color = 'tab:blue'\n",
    "ax2.set_ylabel('zenith [deg]', color=color, fontsize=26)  # we already handled the x-label with ax1\n",
    "ax2.plot(list_rec_id[mask_on], zenith_wrapped_around_horizon[mask_on], color=color, ls='', marker='o', markersize=4)\n",
    "ax2.tick_params(axis='y', labelcolor=color)\n",
    "ax2.set_ylim(90, 0)\n",
    "ax1.set_ylim(0, 360)\n",
    "# ax1.set_xlim(datetime_DU[0], datetime_DU[60000])\n",
    "#ax1.set_xlim(20000,22700)  # Steady source\n",
    "#ax1.set_xlim(10350,10450)  # Source high in sky\n",
    "#ax1.set_xlim(600,5000)  # Large stats\n",
    "#ax1.set_xlim(16700,18000)  # Large stats\n",
    "#ax1.set_xlim(45600,48000)  # Nice plane track Aug\n",
    "#ax1.set_xlim(40500,45000)  # Nice plane track Aug\n",
    "#ax1.set_xlim(61500,71500)  # Nearly steady source Aug\n",
    "\n",
    "\n",
    "ax1.grid(True)\n",
    "# ax1.set_xticks(np.arange(0, 65000, 2000))\n",
    "ax1.set_xlabel(\"Coinc ID\", fontsize=26)"
   ]
  },
  {
   "cell_type": "markdown",
   "id": "d997d7b0",
   "metadata": {},
   "source": [
    "## Steady source"
   ]
  },
  {
   "cell_type": "code",
   "execution_count": null,
   "id": "1a388483",
   "metadata": {},
   "outputs": [],
   "source": [
    "# Define model function to be used to fit to the data above:\n",
    "def gauss(x, *p):\n",
    "    A, mu, sigma = p\n",
    "    return A*np.exp(-(x-mu)**2/(2.*sigma**2))"
   ]
  },
  {
   "cell_type": "code",
   "execution_count": null,
   "id": "fb7271c9",
   "metadata": {},
   "outputs": [],
   "source": [
    "mask_on = (list_chi2 < 100) & (list_rec_id>600) & (list_rec_id<5000)\n",
    "# (list_rec_id>61500) & (list_rec_id<71500) # Augst\n",
    "#(list_rec_id>600) & (list_rec_id<5000) # Large stats (plane track?)\n",
    "#(list_rec_id>10350) & (list_rec_id<10450) # Source high in sky\n",
    "#(list_rec_id>16700) & (list_rec_id<18000)  # Plane track\n",
    "#(list_rec_id>20000) & (list_rec_id<22700) & & (azimuth<270) & (azimuth>220) # Steady source\n",
    "# (list_rec_id>45600) & (list_rec_id<48000) # Beautifull plane track (Aug)\n",
    "# (list_rec_id>40500) & (list_rec_id<45000) # Beautifull plane track (Aug)\n",
    "\n",
    "for m in range(int(min(mult)),int(max(mult)+1)):\n",
    "    mask_in = np.logical_and(mask_on,(mult == m))\n",
    "    if sum(mask_on)==0:\n",
    "      continue;\n",
    "    print(sum(mask_in),\"events with mult=\",m)\n",
    "    plt.figure(1)\n",
    "    plt.hist(zenith_wrapped_around_horizon[mask_in],100);\n",
    "    plt.xlabel(\"Zenith (deg)\")\n",
    "    plt.figure(2)\n",
    "    #mask_az = np.logical_and(mask_in, (azimuth<270))\n",
    "    h = plt.hist(azimuth[mask_in],100);\n",
    "    plt.xlabel(\"Azimuth (deg)\")\n",
    "    #plt.xlim([240,250])\n",
    "    if 0:\n",
    "        #sum(mask_on)>3:\n",
    "        bin_centres = (h[1][:-1] + h[1][1:])/2\n",
    "        # p0 is the initial guess for the fitting coefficients (A, mu and sigma above)\n",
    "        p0 = [max(h[0]), np.mean(bin_centres), 1.]\n",
    "        coeff, var_matrix = curve_fit(gauss, bin_centres, h[0], p0=p0)\n",
    "        h_fit = gauss(bin_centres, *coeff)\n",
    "        plt.plot(bin_centres, h_fit, label='Fit')\n",
    "        print(coeff)\n",
    "\n",
    "    plt.figure(3)        \n",
    "    plt.polar()\n",
    "    plt.scatter(azimuth[mask_in] * np.pi / 180, zenith_wrapped_around_horizon[mask_in], marker='o', ls='-', s=2)\n",
    "    plt.gca().set_theta_zero_location('N', offset=0)\n",
    "    plt.ylim([0,100])\n",
    "#plt.colorbar(location='right', label='Min')"
   ]
  },
  {
   "cell_type": "code",
   "execution_count": null,
   "id": "b091efc8",
   "metadata": {},
   "outputs": [],
   "source": [
    "plt.figure()\n",
    "plt.plot(-list_rec_sphere[mask_on,5], list_rec_sphere[mask_on,4], marker='.', ls='', markersize=2)\n",
    "# plt.axis(\"equal\")\n",
    "plt.xlabel(\"Easting[m]\")\n",
    "plt.ylabel(\"Northing[m]\")\n",
    "plt.xlim(-2e4, 2e4)\n",
    "plt.ylim(-2e4, 2e4)\n",
    "\n",
    "plt.figure()\n",
    "plt.plot(list_rec_sphere[mask_on,8], abs(list_rec_sphere[mask_on,6]), marker='.', ls='', markersize=2)\n",
    "plt.xlabel(\"Distance to source [m]\")\n",
    "plt.ylabel(\"Altitude asl [m]\")\n",
    "\n",
    "plt.figure()\n",
    "plt.hist(list_rec_sphere[mask_on,8], 200);\n",
    "plt.xlabel(\"Distance to source [m]\")\n",
    "#plt.semilogy()\n"
   ]
  },
  {
   "cell_type": "code",
   "execution_count": null,
   "id": "6544bba3",
   "metadata": {},
   "outputs": [],
   "source": [
    "#mask_event, imask_event,_ = np.intersect1d(list_event_id,list_rec_id[mask_on],return_indices=True) # Does not work because interset returns unique values only\"\n",
    "mask_event = np.isin(list_event_id,list_rec_id[mask_on])  # All (duplicated) events \n",
    "\n",
    "this_DU_ids = list_DU_id[mask_event]\n",
    "list_DUs, indu, ncounts = np.unique(this_DU_ids, return_index=True,return_counts=True)\n",
    "plt.bar(list_DUs, ncounts, width=0.8);\n",
    "r = np.array(ncounts/sum(mask_on)*100,dtype=float)\n",
    "print(list_DUs)\n",
    "print(r)\n"
   ]
  },
  {
   "cell_type": "code",
   "execution_count": null,
   "id": "a5c23ab7",
   "metadata": {},
   "outputs": [],
   "source": [
    "i = 0\n",
    "#fig, axs = plt.subplots(nrows=2, ncols=4, sharex=True, sharey=True,figsize=(20, 8))\n",
    "this_amps = list_coin_table[mask_event,3]\n",
    "mamps = np.zeros((len(list_DUs)))\n",
    "for i,du in enumerate(list_DUs):\n",
    "    #axs[i%2,i//2].hist(this_amps[this_DU_ids == du], histtype='step', label=du)\n",
    "    #axs[i%2,i//2].legend()\n",
    "    #axs[i%2,i//2].grid(True)\n",
    "    #i += 1\n",
    "    plt.hist(this_amps[this_DU_ids == du], histtype='step', label=du)\n",
    "    print(\"DU\",du,\"Mean amp (ADC):\",np.mean(this_amps[this_DU_ids == du]))\n",
    "    mamps[i]=np.mean(this_amps[this_DU_ids == du])\n",
    "plt.legend()    \n",
    "fig.subplots_adjust(hspace=0, wspace=0)\n",
    "#plt.loglog()\n",
    "plt.xlabel(\"ADC\")\n",
    "plt.grid(True);"
   ]
  },
  {
   "cell_type": "code",
   "execution_count": null,
   "id": "a4686241",
   "metadata": {},
   "outputs": [],
   "source": [
    "thisDUs = list_DU_coord[mask_event,1:4]\n",
    "xdu = thisDUs[indu,0]\n",
    "ydu = thisDUs[indu,1]\n",
    "zdu = thisDUs[indu,2]\n",
    "idu = this_DU_ids[indu] \n",
    "print(idu)\n",
    "\n",
    "plt.figure()\n",
    "print(r)\n",
    "plt.scatter(-ydu,xdu,c=r, cmap=\"gnuplot\")\n",
    "plt.colorbar(location='right', label='% occurence')\n",
    "for i in range(len(idu)):\n",
    "    plt.text(-ydu[i]+100,xdu[i],idu[i],fontsize=12)\n",
    "#plt.bar(np.arange(len(list_dus)), ncounts, width=0.8)\n",
    "#plt.xticks(list_dus)"
   ]
  },
  {
   "cell_type": "code",
   "execution_count": null,
   "id": "193a81f2-ff54-45e3-9c44-a2d0fcd60c69",
   "metadata": {},
   "outputs": [],
   "source": [
    "# Correlation of % occurence with amplitude?\n",
    "plt.plot(mamps,r,'+')\n",
    "for i in range(len(idu)):\n",
    "    plt.text(mamps[i]+10,r[i],idu[i],fontsize=12)\n",
    "plt.xlabel('Mean signal amp (ADC)')\n",
    "plt.ylabel('Occurence (%)')\n",
    "\n",
    "# Correlation with distance to DAQ room?\n",
    "daq_pos = np.array([406,456,1205])\n",
    "d_daq = np.linalg.norm(np.array([xdu,ydu,zdu]).T-daq_pos,axis=1)\n",
    "plt.figure()\n",
    "plt.plot(d_daq,r,'+')\n",
    "for i in range(len(idu)):\n",
    "    plt.text(d_daq[i]+100,r[i],idu[i],fontsize=12)\n",
    "plt.xlabel('Distance to DAQ room (m)')\n",
    "plt.ylabel('Occurence (%)')\n",
    "\n",
    "print(d_daq,mamps[:],r)"
   ]
  },
  {
   "cell_type": "code",
   "execution_count": null,
   "id": "b04777ae",
   "metadata": {},
   "outputs": [],
   "source": [
    "d1 = [ 609.88195817, 1994.35443067, 1876.48234851, 2313.59185413, 1932.81985776,  673.1193245 ]\n",
    "a1 = [187.1183432,  153.44444444, 254.82524272, 189.75971731, 268.22807018, 274.81132075]\n",
    "r1 = [51.68195719, 13.76146789, 94.49541284, 86.54434251, 69.72477064, 81.03975535]\n",
    "d2 = [ 609.88195817, 1994.35443067, 1876.48234851, 2313.59185413, 1170.17030074, 673.1193245,  1400.99696924] \n",
    "a2 = [218.2555205,  133.64285714, 214.67346939, 204.67951807, 217.05806452, 211.97843666, 220.17218543]\n",
    "r2 = [66.45702306,  5.87002096, 71.90775681, 87.00209644, 64.98951782, 77.77777778, 63.31236897]\n",
    "d3 = [609.88195817, 1994.35443067, 1134.63487209, 1876.48234851, 2313.59185413, 1170.17030074, 1932.81985776,  673.1193245,  1400.99696924] \n",
    "a3 = [165.37698413, 130.77777778, 159., 218.15217391, 197.69905533, 220.79172414, 232.20616114, 200.70042194, 208.20563847] \n",
    "r3 = [24.51361868,  0.87548638, 11.57587549, 76.07003891, 72.08171206, 70.52529183, 41.05058366, 69.16342412, 58.65758755]\n",
    "\n",
    "r = np.append(r1,r2)\n",
    "r = np.append(r,r3)\n",
    "d = np.append(d1,d2)\n",
    "d = np.append(d,d3)\n",
    "a = np.append(a1,a2)\n",
    "a = np.append(a,a3)\n",
    "\n",
    "plt.figure()\n",
    "plt.plot(a,r,'+')\n",
    "plt.xlabel(\"Mean amplitude (ADC)\")\n",
    "plt.ylabel(\"Occurence (%)\")\n",
    "plt.figure()\n",
    "plt.plot(d,r,'+')\n",
    "plt.xlabel(\"Distance to DAQ (m)\")\n",
    "plt.ylabel(\"Occurence (%)\")\n"
   ]
  },
  {
   "cell_type": "markdown",
   "id": "3248d4cf-ba52-4b5b-9a5f-f00b42ba4214",
   "metadata": {},
   "source": [
    "## Design a cut to select the outliers (out of track)"
   ]
  },
  {
   "cell_type": "markdown",
   "id": "f66fd8fc-ce74-49e4-9053-bc45e33bef6e",
   "metadata": {
    "jp-MarkdownHeadingCollapsed": true
   },
   "source": [
    "### Use slope to remove tracks"
   ]
  },
  {
   "cell_type": "code",
   "execution_count": null,
   "id": "6f01acc0-012b-45a9-b411-133edb1e6bdc",
   "metadata": {},
   "outputs": [],
   "source": [
    "mask_on = (list_chi2 < 1e4) & ((zenith_wrapped_around_horizon < 70) & (zenith_wrapped_around_horizon > 60))\n",
    "t_start, t_end = list_event_t_true[0], list_event_t_true[-1]\n",
    "time_bin_edges = np.arange(t_start//1e9, t_end//1e9, 120) # ns divided by 1e9, to second\n",
    "# t_index = np.digitize(list_event_t_unique[mask_on] // 1e9, time_bin_edges)\n",
    "mask_track_azimuth = np.ones_like(mask_on)\n",
    "time_azimuth_variance = np.zeros_like(time_bin_edges[:-1])\n",
    "list_event_second_unique = list_event_t_unique // 1e9\n",
    "mask_time = np.zeros_like(azimuth[mask_on], dtype=bool)\n",
    "for i in range(len(time_azimuth_variance)):\n",
    "    _mask_time = (list_event_second_unique[mask_on] >= time_bin_edges[i]) & (list_event_second_unique[mask_on] < time_bin_edges[i+1])\n",
    "    if np.sum(_mask_time) < 2:\n",
    "        time_azimuth_variance[i] = np.nan\n",
    "        mask_time = (_mask_time) | (mask_time)\n",
    "        continue\n",
    "    phis = azimuth[mask_on][_mask_time]\n",
    "    phi_max = phis.max()\n",
    "    phi_min = phis.min()\n",
    "    phi_var = np.var(phis)\n",
    "    time_azimuth_variance[i] = np.mean(np.diff(phis))\n",
    "    # print(np.sum(mask_time))\n",
    "    # print(phi_max, phi_min, time_azimuth_variance[i])\n",
    "    if np.abs(time_azimuth_variance[i]) < 1:\n",
    "        mask_time = (_mask_time) | (mask_time)"
   ]
  },
  {
   "cell_type": "code",
   "execution_count": null,
   "id": "9e454c44-dcbb-4be1-b5ed-697e995b593b",
   "metadata": {
    "jupyter": {
     "outputs_hidden": true,
     "source_hidden": true
    },
    "scrolled": true
   },
   "outputs": [],
   "source": [
    "plt.hist(time_azimuth_variance, np.linspace(-5, 5));\n",
    "# plt.ylim(-5, 5)\n",
    "plt.semilogy()"
   ]
  },
  {
   "cell_type": "code",
   "execution_count": null,
   "id": "7a9745e4-ff8b-4a6a-904f-1675904426d0",
   "metadata": {},
   "outputs": [],
   "source": [
    "fig, ax1 = plt.subplots(figsize=(30,10))\n",
    "color = 'tab:red'\n",
    "# ax1.set_xlabel('time (s)')\n",
    "ax1.set_ylabel('azimuth [deg]', color=color, fontsize=26)\n",
    "ax1.plot(list_event_t_unique[mask_on][mask_time], azimuth[mask_on][mask_time], color=color, ls='', marker='.', markersize=6)\n",
    "ax1.tick_params(axis='y', labelcolor=color)\n",
    "\n",
    "ax2 = ax1.twinx()  # instantiate a second Axes that shares the same x-axis\n",
    "\n",
    "color = 'tab:blue'\n",
    "# ax2.set_ylabel('zenith [deg]', color=color, fontsize=26)  # we already handled the x-label with ax1\n",
    "# ax2.plot(list_index[mask_on][mask_time], zenith_wrapped_around_horizon[mask_on][mask_time], color=color, ls='', marker='.', markersize=6)\n",
    "ax2.semilogy(time_bin_edges[:-1] * 1e9, time_azimuth_variance, color=color, ls='-', marker='.', markersize=20)\n",
    "ax2.tick_params(axis='y', labelcolor=color)\n",
    "# ax2.set_ylim(70, 60)\n",
    "# ax2.set_ylim(0, 40)\n",
    "ax1.grid(True)\n",
    "ax1.set_xlabel(\"Event ID\", fontsize=26)\n",
    "# ax1.set_xlim(4920,5000)\n",
    "# ax1.set_xlim(5900, 6100)\n",
    "# ax1.set_ylim(170, 220)\n",
    "# ax1.set_xlim(time_DU[4000], datetime_DU[6500])"
   ]
  },
  {
   "cell_type": "markdown",
   "id": "cdb17b49-a695-44a1-8c36-50580d1e7bd8",
   "metadata": {},
   "source": [
    "### Exclude events with nearby azimuths in a time window"
   ]
  },
  {
   "cell_type": "code",
   "execution_count": null,
   "id": "a892afdb-280b-4a51-b70f-e62717d60eb1",
   "metadata": {},
   "outputs": [],
   "source": [
    "# dphi_dt = np.diff(azimuth) / (np.diff(list_event_t_unique) // 1e9)\n",
    "t_event = 300 # length the of the time window to be counted, sec\n",
    "d_deg = 4\n",
    "n_event = 2 # maximum number with close azimuth\n",
    "\n",
    "d_phi = np.zeros(len(azimuth), dtype=int)\n",
    "d_theta = np.zeros(len(azimuth), dtype=int)\n",
    "mask_track = np.zeros(len(azimuth), dtype=bool)\n",
    "i_event = 0\n",
    "while i_event < len(list_event_id_unique):\n",
    "    delta_t = list_event_t_unique - list_event_t_unique[i_event]\n",
    "    t_mask = np.abs(delta_t) < (t_event * 1e9)  \n",
    "    delta_phi = azimuth[t_mask] - azimuth[i_event]\n",
    "    delta_theta = zenith_wrapped_around_horizon[t_mask] - zenith_wrapped_around_horizon[i_event]\n",
    "    # pf = np.polyfit(np.arange(2*n_event), _phi,1)\n",
    "    # mask_track[i_event] = np.sum(np.abs(delta_phi) < d_deg)\n",
    "    d_phi[i_event] = np.sum(np.abs(delta_phi) < d_deg)\n",
    "    d_phi[i_event] = np.sum(np.abs(delta_theta) < d_deg)\n",
    "    if np.sum(np.abs(delta_phi) < d_deg) <= n_event:\n",
    "        mask_track[i_event] = 1\n",
    "    i_event += 1"
   ]
  },
  {
   "cell_type": "code",
   "execution_count": null,
   "id": "bb28f8bb-2fc6-4968-a94f-51a746c1ee74",
   "metadata": {},
   "outputs": [],
   "source": [
    "datetime_DU = np.array(datetime_DU)\n",
    "# mask_on = (list_chi2 < 1e4) & ((zenith_wrapped_around_horizon < 80) & (zenith_wrapped_around_horizon > 60))\n",
    "mask_on = np.ones_like(mask_track)\n",
    "list_index = np.arange(len(mask_on))\n",
    "fig, ax1 = plt.subplots(figsize=(30,10))\n",
    "color = 'tab:red'\n",
    "# ax1.set_xlabel('time (s)')\n",
    "ax1.set_ylabel('azimuth [deg]', color=color, fontsize=26)\n",
    "ax1.plot(list_index[mask_on & mask_track], azimuth[mask_on & mask_track], color=color, ls='', marker='+', markersize=12, markeredgewidth=2)\n",
    "ax1.plot(list_index[mask_on & ~mask_track], azimuth[mask_on & ~mask_track], color='g', ls='', marker='.', markersize=2)\n",
    "ax1.tick_params(axis='y', labelcolor=color)\n",
    "\n",
    "ax2 = ax1.twinx()  # instantiate a second Axes that shares the same x-axis\n",
    "\n",
    "color = 'tab:blue'\n",
    "# ax2.set_ylabel('zenith [deg]', color=color, fontsize=26)  # we already handled the x-label with ax1\n",
    "# ax2.plot(list_index[mask_on & mask_track], zenith_wrapped_around_horizon[mask_on & mask_track], color=color, ls='', marker='+', markersize=12)\n",
    "# ax2.plot(list_index[mask_on & ~mask_track], zenith_wrapped_around_horizon[mask_on & ~mask_track], color=color, ls='', marker='.', markersize=2)\n",
    "\n",
    "# ax2.plot(list_event_id_unique[mask_on][n_event:-n_event], dphi_dt, color=color, ls='-', marker='.', markersize=6, lw=1, alpha=.6)\n",
    "ax2.tick_params(axis='y', labelcolor=color)\n",
    "ax2.set_ylim(90, 0)\n",
    "ax1.set_ylim(0, 360)\n",
    "ax1.grid(True)\n",
    "ax1.set_xlabel(\"Event ID\", fontsize=26)\n",
    "# ax1.set_xlim(datetime_DU[41000], datetime_DU[41600])\n",
    "# ax1.set_xlim(3000, 3800)"
   ]
  },
  {
   "cell_type": "code",
   "execution_count": null,
   "id": "a1d819d3-aa73-4940-b318-035bdac7c86a",
   "metadata": {},
   "outputs": [],
   "source": [
    "fig, ax1 = plt.subplots(figsize=(30,10))\n",
    "color = 'tab:red'\n",
    "# ax1.set_xlabel('time (s)')\n",
    "ax1.set_ylabel('azimuth [deg]', color=color, fontsize=26)\n",
    "# ax1.plot(list_index[mask_on & mask_track], azimuth[mask_on & mask_track], color=color, ls='', marker='+', markersize=12, markeredgewidth=2)\n",
    "# ax1.plot(list_index[mask_on & ~mask_track], azimuth[mask_on & ~mask_track], color='g', ls='', marker='.', markersize=2)\n",
    "ax1.tick_params(axis='y', labelcolor=color)\n",
    "\n",
    "ax2 = ax1.twinx()  # instantiate a second Axes that shares the same x-axis\n",
    "\n",
    "color = 'tab:blue'\n",
    "# ax2.set_ylabel('zenith [deg]', color=color, fontsize=26)  # we already handled the x-label with ax1\n",
    "ax2.plot(list_index[mask_on & mask_track], zenith_wrapped_around_horizon[mask_on & mask_track], color=color, ls='', marker='+', markersize=12)\n",
    "ax2.plot(list_index[mask_on & ~mask_track], zenith_wrapped_around_horizon[mask_on & ~mask_track], color='g', ls='', marker='.', markersize=2)\n",
    "\n",
    "# ax2.plot(list_event_id_unique[mask_on][n_event:-n_event], dphi_dt, color=color, ls='-', marker='.', markersize=6, lw=1, alpha=.6)\n",
    "ax2.tick_params(axis='y', labelcolor=color)\n",
    "ax2.set_ylim(90, 0)\n",
    "ax1.set_ylim(0, 360)\n",
    "ax1.grid(True)\n",
    "ax1.set_xlabel(\"Event ID\", fontsize=26)\n",
    "# ax1.set_xlim(datetime_DU[41000], datetime_DU[41600])\n",
    "# ax1.set_xlim(3000, 3800)"
   ]
  },
  {
   "cell_type": "code",
   "execution_count": null,
   "id": "7c21fd52-176b-4ded-9409-6f1cf7cd75e5",
   "metadata": {
    "jupyter": {
     "outputs_hidden": true,
     "source_hidden": true
    },
    "scrolled": true
   },
   "outputs": [],
   "source": [
    "plt.hist(d_phi, np.linspace(0, 20))\n",
    "plt.semilogy()"
   ]
  },
  {
   "cell_type": "code",
   "execution_count": null,
   "id": "7fb66090-99ae-4357-842a-0e566949197a",
   "metadata": {
    "jupyter": {
     "outputs_hidden": true,
     "source_hidden": true
    }
   },
   "outputs": [],
   "source": [
    "mask_dphi = dphi_dt < 0.2\n",
    "fig, ax1 = plt.subplots(figsize=(30,10))\n",
    "color = 'tab:red'\n",
    "# ax1.set_xlabel('time (s)')\n",
    "ax1.set_ylabel('azimuth [deg]', color=color, fontsize=26)\n",
    "ax1.plot(list_event_id_unique[mask_on][n_event:-n_event][mask_dphi], azimuth[mask_on][n_event:-n_event][mask_dphi], color=color, ls='', marker='.', markersize=6)\n",
    "ax1.tick_params(axis='y', labelcolor=color)\n",
    "\n",
    "ax2 = ax1.twinx()  # instantiate a second Axes that shares the same x-axis\n",
    "\n",
    "color = 'tab:blue'\n",
    "# ax2.set_ylabel('zenith [deg]', color=color, fontsize=26)  # we already handled the x-label with ax1\n",
    "ax2.plot(list_event_id_unique[mask_on][n_event:-n_event][mask_dphi], zenith_wrapped_around_horizon[mask_on][n_event:-n_event][mask_dphi], color=color, ls='', marker='.', markersize=6)\n",
    "ax2.tick_params(axis='y', labelcolor=color)\n",
    "# ax2.set_ylim(70, 60)\n",
    "# ax1.set_ylim(208, 215)\n",
    "ax1.grid(True)\n",
    "ax1.set_xlabel(\"Event ID\", fontsize=26)\n",
    "# ax1.set_xlim(0, 10000)"
   ]
  },
  {
   "cell_type": "markdown",
   "id": "8be74995-27bf-4181-9b1e-3dd77b77f6cd",
   "metadata": {
    "jp-MarkdownHeadingCollapsed": true
   },
   "source": [
    "## Save the mask array to each folder"
   ]
  },
  {
   "cell_type": "code",
   "execution_count": null,
   "id": "6c325115-a80b-4c8f-86ae-a9fc36e82ada",
   "metadata": {},
   "outputs": [],
   "source": [
    "# Cuts:\n",
    "# Chi2 < 1e4 \n",
    "# 60 < Zenith < 80\n",
    "# no events < 4deg in 5mins\n",
    "\n",
    "# Cuts:\n",
    "# no events < 4deg in 5mins\n",
    "mask_good_events = mask_on & mask_track\n",
    "\n",
    "i_start = 0\n",
    "for i, dir in enumerate(dirlist):\n",
    "    if not os.path.exists(dir +'/Rec_coinctable.txt'):\n",
    "      # Empty, skip\n",
    "      continue\n",
    "    size = os.path.getsize(dir +'/Rec_coinctable.txt')\n",
    "    if size == 0:\n",
    "      # Empty, skip\n",
    "      continue\n",
    "    _file_PWF = np.loadtxt(dir +'/Rec_plane_wave_recons.txt').reshape((-1, 9))\n",
    "    n = len(_file_PWF)\n",
    "    np.savetxt(dir +'/mask_non_track.txt', mask_good_events[i_start:i_start+n], fmt='%.0f')\n",
    "    i_start += n"
   ]
  },
  {
   "cell_type": "markdown",
   "id": "dcaa1a09-34b2-4493-a403-f41dd5cb35c9",
   "metadata": {},
   "source": [
    "# Check the traces"
   ]
  },
  {
   "cell_type": "code",
   "execution_count": null,
   "id": "3975d91e-24de-4695-bc40-0bcceb571c6b",
   "metadata": {
    "scrolled": true
   },
   "outputs": [],
   "source": [
    "list_traces = np.zeros((0, 4, 1024), dtype=np.int16)\n",
    "for i in dirlist[list_if_file]:\n",
    "    # print(i)\n",
    "    _list_traces = np.load(i + \"/trace.npz\")[\"arr_0\"]\n",
    "    list_traces = np.append(list_traces, _list_traces, axis=0)"
   ]
  },
  {
   "cell_type": "code",
   "execution_count": null,
   "id": "2f0df1c3-9ba3-4498-b123-1a5e7438fbab",
   "metadata": {},
   "outputs": [],
   "source": [
    "plt.plot(list_traces[0,0], marker='.')\n",
    "plt.plot(list_traces[0,1], marker='.')\n",
    "plt.plot(list_traces[0,2], marker='.')\n",
    "plt.plot(list_traces[0,3], marker='.');"
   ]
  },
  {
   "cell_type": "code",
   "execution_count": null,
   "id": "083e0235-176e-4d55-8468-55d32a9e7e2c",
   "metadata": {},
   "outputs": [],
   "source": [
    "list_DU_id_unique = np.unique(list_DU_id)\n",
    "_ = np.arange(len(list_event_id))\n",
    "i_start = _[list_event_id == 15000][0]\n",
    "i_end = _[list_event_id == 20000][-1]\n",
    "i_mask = (list_event_id >= i_start) & (list_event_id <= i_end)\n",
    "for du in list_DU_id_unique:\n",
    "    plt.figure(figsize=(10, 5))\n",
    "    plt.title(du)\n",
    "    plt.plot(np.mean(list_traces[(list_DU_id == du) & (i_mask)][0], axis=0), marker='.', lw=2, alpha=.6, label='F', zorder=100)\n",
    "    plt.plot(np.mean(list_traces[(list_DU_id == du) & (i_mask)][1], axis=0), marker='.', lw=2, alpha=.6, label='X')\n",
    "    plt.plot(np.mean(list_traces[(list_DU_id == du) & (i_mask)][3], axis=0), marker='.', lw=2, alpha=.6, label='Z')\n",
    "    plt.legend()\n",
    "    plt.savefig(f\"/Users/xishui/Downloads/trace_{du}.pdf\")"
   ]
  },
  {
   "cell_type": "markdown",
   "id": "9df46791-3e52-4084-b4c6-90683ea139db",
   "metadata": {
    "jp-MarkdownHeadingCollapsed": true
   },
   "source": [
    "## Check the Channel Z fraction"
   ]
  },
  {
   "cell_type": "code",
   "execution_count": null,
   "id": "c8213038-a4f0-4ae1-9523-941aee08ff3b",
   "metadata": {},
   "outputs": [],
   "source": [
    "list_rms_total = np.std(list_traces[:,3,:], axis=1)\n",
    "list_z_ratio = np.max(list_traces[:,3,:], axis=1) / list_rms_total"
   ]
  },
  {
   "cell_type": "code",
   "execution_count": null,
   "id": "958559fa-46bc-47c4-be0f-208040aed083",
   "metadata": {},
   "outputs": [],
   "source": [
    "i = np.arange(len(list_rms_total))[list_rms_total < 10][0]"
   ]
  },
  {
   "cell_type": "code",
   "execution_count": null,
   "id": "17cfc18d-3fac-4197-bd21-f422e4215922",
   "metadata": {},
   "outputs": [],
   "source": [
    "mask_track_trace = np.zeros_like(list_event_id, dtype='bool')\n",
    "for i in list_event_id_unique[mask_track]:\n",
    "    mask_track_trace = mask_track_trace | (list_event_id == i)\n",
    "    "
   ]
  },
  {
   "cell_type": "code",
   "execution_count": null,
   "id": "6bdd54ad-3505-4852-87a8-79ee30383b68",
   "metadata": {
    "jupyter": {
     "outputs_hidden": true
    }
   },
   "outputs": [],
   "source": [
    "plt.plot(np.mean(list_traces[(list_rms_total < 10) & (mask_track_trace),3,:], axis=1), marker='.')"
   ]
  },
  {
   "cell_type": "code",
   "execution_count": null,
   "id": "9349a934-3e55-4f37-9199-9205806a418c",
   "metadata": {
    "jupyter": {
     "outputs_hidden": true
    }
   },
   "outputs": [],
   "source": [
    "plt.plot(list_traces[i,3], marker='.')"
   ]
  },
  {
   "cell_type": "code",
   "execution_count": null,
   "id": "f5818506-f16e-41ca-941b-5e200ab6b06c",
   "metadata": {},
   "outputs": [],
   "source": [
    "plt.hist(list_rms_total[(mask_track_trace)], np.logspace(-1,4))\n",
    "plt.loglog();"
   ]
  },
  {
   "cell_type": "code",
   "execution_count": null,
   "id": "11ceb3c2-7d7b-432a-a37b-d22ba4c8d946",
   "metadata": {
    "jupyter": {
     "outputs_hidden": true
    }
   },
   "outputs": [],
   "source": [
    "plt.hist(list_z_ratio[(mask_track_trace)], np.logspace(-1, 2, 200))\n",
    "plt.loglog()\n",
    "plt.xlabel(r\"$Z_{max}/RMS_{Z}$\");"
   ]
  },
  {
   "cell_type": "code",
   "execution_count": null,
   "id": "e8d35c4d-644e-47f3-a8a2-f8209e021504",
   "metadata": {},
   "outputs": [],
   "source": []
  },
  {
   "cell_type": "markdown",
   "id": "caf6c24b-6f5b-467f-b777-2bc947ce0ef4",
   "metadata": {},
   "source": [
    "# Only save the non-track events"
   ]
  },
  {
   "cell_type": "code",
   "execution_count": null,
   "id": "e213507d-6e7a-4bbb-8edd-766e1e05dba9",
   "metadata": {},
   "outputs": [],
   "source": [
    "index_arr = np.arange(len(mask_good_events))"
   ]
  },
  {
   "cell_type": "code",
   "execution_count": null,
   "id": "c169c1b1-d047-42f6-9cff-7c42d7fa3735",
   "metadata": {},
   "outputs": [],
   "source": [
    "# Cuts:\n",
    "# no events < 4deg in 5mins\n",
    "mask_good_events = mask_on & mask_track\n",
    "mask_good_events_by_DU = np.array([if i in _index_arr[mask_good_events]] for i in _file_coinc[:,1]])\n",
    "\n",
    "file_duid_total = np.zeros((np.sum(mask_good_events), 4),\n",
    "                           dtype=[('DU', int), ('Second0', 'int'), ('Nanosecond0', 'int'), (\"Entry\", \"int\")])\n",
    "file_coin_total = np.zeros((np.sum(mask_good_events), 4), dtype=[('Linenumber', int), ('EventID', 'int'), ('Relative_second', np.float64), (\"ADC_Max\", int)])\n",
    "file_trace_total = np.zeros((np.sum(mask_good_events), 4, 1024), dtype=int)\n"
   ]
  },
  {
   "cell_type": "code",
   "execution_count": null,
   "id": "2ae45f5d-431e-45f4-81fe-5604d0519258",
   "metadata": {},
   "outputs": [],
   "source": [
    "good_ids = index_arr[mask_good_events]"
   ]
  },
  {
   "cell_type": "code",
   "execution_count": null,
   "id": "590fec35-ff45-4a6a-9765-51e10fd57658",
   "metadata": {},
   "outputs": [],
   "source": [
    "if_valide = np.array([True if i in good_ids else False for i in list_event_id ])"
   ]
  },
  {
   "cell_type": "code",
   "execution_count": null,
   "id": "68bcaeae-b8b9-4444-8c40-440fd9907e07",
   "metadata": {},
   "outputs": [],
   "source": [
    "valide_DU_id = list_DU_id[if_valide]"
   ]
  },
  {
   "cell_type": "code",
   "execution_count": null,
   "id": "3136bc74-ae32-4010-a2fc-857839072c76",
   "metadata": {},
   "outputs": [],
   "source": [
    "list_coin_table_valide = list_coin_table[if_valide].copy()\n",
    "list_coin_table_valide[:,0] = np.arange(len(list_coin_table_valide))\n",
    "list_coin_table_valide[:,1] = list_event_id[if_valide]\n",
    "\n",
    "list_DU_coord_valide = list_DU_coord[if_valide].copy()\n",
    "list_DU_coord_valide[:,0] = np.arange(len(list_coin_table_valide))"
   ]
  },
  {
   "cell_type": "code",
   "execution_count": null,
   "id": "c6944d04-491f-4fff-88ba-f561e26f8448",
   "metadata": {},
   "outputs": [],
   "source": [
    "# Save\n",
    "np.savez(\"GP13_UD_Offline_events\", coinctable=list_coin_table_valide,\n",
    "        du_id=valide_DU_id, trace=list_traces[if_valide],\n",
    "         du_coord=list_DU_coord_valide)"
   ]
  },
  {
   "cell_type": "code",
   "execution_count": null,
   "id": "885adace-82ce-49ba-bcdf-ac71363f68c3",
   "metadata": {},
   "outputs": [],
   "source": [
    "len(np.unique(list_coin_table_valide[:,1]))"
   ]
  },
  {
   "cell_type": "code",
   "execution_count": null,
   "id": "8e677df1-d181-43e0-b33b-ea7a232cddc3",
   "metadata": {},
   "outputs": [],
   "source": [
    "list_coin_table_valide[:5,1]"
   ]
  },
  {
   "cell_type": "code",
   "execution_count": null,
   "id": "0cc6363c-29bd-460e-a8fa-2f0941b8de6a",
   "metadata": {},
   "outputs": [],
   "source": [
    "list_coin_table_valide[:3]"
   ]
  },
  {
   "cell_type": "code",
   "execution_count": null,
   "id": "9a9da33f-44f8-4f25-ab33-03bfbc03c9ca",
   "metadata": {},
   "outputs": [],
   "source": [
    "valide_DU_id[:3]"
   ]
  },
  {
   "cell_type": "code",
   "execution_count": null,
   "id": "82c0e27c-1ebf-433b-8276-8c16652da513",
   "metadata": {},
   "outputs": [],
   "source": []
  }
 ],
 "metadata": {
  "kernelspec": {
   "display_name": "Python 3 (ipykernel)",
   "language": "python",
   "name": "python3"
  },
  "language_info": {
   "codemirror_mode": {
    "name": "ipython",
    "version": 3
   },
   "file_extension": ".py",
   "mimetype": "text/x-python",
   "name": "python",
   "nbconvert_exporter": "python",
   "pygments_lexer": "ipython3",
   "version": "3.9.16"
  }
 },
 "nbformat": 4,
 "nbformat_minor": 5
}
